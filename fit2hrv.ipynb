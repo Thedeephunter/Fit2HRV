{
 "cells": [
  {
   "cell_type": "markdown",
   "metadata": {},
   "source": [
    "首先需要导入 fitparse 库用以处理 fit 文件 （通常为运动设备存储的文件类型，例如在手环上记录一次健身活动通常对应一个 fit 文件）\n",
    "请确保 fitparse 库已在当前环境中正确安装"
   ]
  },
  {
   "cell_type": "code",
   "execution_count": 40,
   "metadata": {},
   "outputs": [],
   "source": [
    "import fitparse\n",
    "import numpy as np"
   ]
  },
  {
   "cell_type": "markdown",
   "metadata": {},
   "source": [
    "下面导入 fit 文件\n",
    "请注意，将如下文件地址替换为 fit 文件在您计算机中的地址"
   ]
  },
  {
   "cell_type": "code",
   "execution_count": 41,
   "metadata": {},
   "outputs": [],
   "source": [
    "fitfile = fitparse.FitFile(r'D:\\user\\15170\\2023-09-15-11-53-18.fit')"
   ]
  },
  {
   "cell_type": "markdown",
   "metadata": {},
   "source": [
    "遍历 fit 文件，获得每秒的心率值 heart_rate_data"
   ]
  },
  {
   "cell_type": "code",
   "execution_count": 42,
   "metadata": {},
   "outputs": [],
   "source": [
    "# 生成心率数据的空列表\n",
    "heart_rate_data = []\n",
    "# 遍历\n",
    "for record in fitfile.get_messages('record'):\n",
    "\n",
    "    for record_data in record:\n",
    "        if record_data.name == 'heart_rate':\n",
    "            heart_rate = record_data.value\n",
    "    \n",
    "    heart_rate_data.append(heart_rate)"
   ]
  },
  {
   "cell_type": "markdown",
   "metadata": {},
   "source": [
    "假设第一次心跳发生在 fit 文件所记录活动的 0s\n",
    "那么有：\n",
    "$$\n",
    "t_{hb}(i+1) = t_{hb}(i) + \\frac{60}{hr} \n",
    "$$\n",
    "其中 $t_{hb}(i+1)$ 为 $i+1$ 次心跳的时间点， $t_{hb}(i)$ 为 $i$ 次心跳的时间点，$hr$ 为此时的心率"
   ]
  },
  {
   "cell_type": "code",
   "execution_count": 43,
   "metadata": {},
   "outputs": [],
   "source": [
    "# 生成足够长的矩阵存储心跳时间节点，后面舍弃\n",
    "beatpoint_raw = []\n",
    "beatpoint_raw.append(0)\n",
    "i = 0\n",
    "while i < len(heart_rate_data):\n",
    "    beatpoint_raw.append(beatpoint_raw[-1] + 60/heart_rate_data[i])\n",
    "    # 确定时间步的更新条件\n",
    "    if 1 + i - beatpoint_raw[-1] <= 60/heart_rate_data[i]:\n",
    "        i += 1\n"
   ]
  },
  {
   "cell_type": "markdown",
   "metadata": {},
   "source": [
    "计算 HRV \n",
    "也即计算心跳间隔时间的标准差"
   ]
  },
  {
   "cell_type": "code",
   "execution_count": 44,
   "metadata": {},
   "outputs": [
    {
     "name": "stdout",
     "output_type": "stream",
     "text": [
      "Your HRV is: 46.55 ms\n"
     ]
    }
   ],
   "source": [
    "beatpoint = np.array(beatpoint_raw)\n",
    "df_beatpoint = 1000*np.diff(beatpoint)\n",
    "HRV = np.std(df_beatpoint)\n",
    "print('Your HRV is:', round(HRV, 2), 'ms')"
   ]
  }
 ],
 "metadata": {
  "kernelspec": {
   "display_name": "base",
   "language": "python",
   "name": "python3"
  },
  "language_info": {
   "codemirror_mode": {
    "name": "ipython",
    "version": 3
   },
   "file_extension": ".py",
   "mimetype": "text/x-python",
   "name": "python",
   "nbconvert_exporter": "python",
   "pygments_lexer": "ipython3",
   "version": "3.11.3"
  }
 },
 "nbformat": 4,
 "nbformat_minor": 2
}
